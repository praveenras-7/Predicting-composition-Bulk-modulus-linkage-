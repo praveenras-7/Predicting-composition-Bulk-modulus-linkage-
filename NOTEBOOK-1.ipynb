{
 "cells": [
  {
   "cell_type": "code",
   "execution_count": 1,
   "metadata": {},
   "outputs": [
    {
     "name": "stdout",
     "output_type": "stream",
     "text": [
      "Using python in d:\\Users\\M PRAVEEN\\anaconda3\\envs\\Cr23c6\n",
      "3.7.13 (default, Mar 28 2022, 08:03:21) [MSC v.1916 64 bit (AMD64)]\n"
     ]
    },
    {
     "name": "stderr",
     "output_type": "stream",
     "text": [
      "d:\\Users\\M PRAVEEN\\anaconda3\\envs\\Cr23c6\\lib\\site-packages\\ipykernel_launcher.py:43: DeprecationWarning: distutils Version classes are deprecated. Use packaging.version instead.\n",
      "d:\\Users\\M PRAVEEN\\anaconda3\\envs\\Cr23c6\\lib\\site-packages\\ipykernel_launcher.py:29: DeprecationWarning: distutils Version classes are deprecated. Use packaging.version instead.\n"
     ]
    },
    {
     "name": "stdout",
     "output_type": "stream",
     "text": [
      "[ OK ] numpy version 1.18.1\n"
     ]
    },
    {
     "name": "stderr",
     "output_type": "stream",
     "text": [
      "d:\\Users\\M PRAVEEN\\anaconda3\\envs\\Cr23c6\\lib\\site-packages\\ipykernel_launcher.py:29: DeprecationWarning: distutils Version classes are deprecated. Use packaging.version instead.\n"
     ]
    },
    {
     "name": "stdout",
     "output_type": "stream",
     "text": [
      "[ OK ] pandas version 1.0.2\n"
     ]
    },
    {
     "name": "stderr",
     "output_type": "stream",
     "text": [
      "d:\\Users\\M PRAVEEN\\anaconda3\\envs\\Cr23c6\\lib\\site-packages\\ipykernel_launcher.py:29: DeprecationWarning: distutils Version classes are deprecated. Use packaging.version instead.\n"
     ]
    },
    {
     "name": "stdout",
     "output_type": "stream",
     "text": [
      "[ OK ] pandas_profiling version 2.4.0\n",
      "[ OK ] matplotlib version 3.4.3\n",
      "[ OK ] seaborn version 0.10.0\n"
     ]
    },
    {
     "name": "stderr",
     "output_type": "stream",
     "text": [
      "d:\\Users\\M PRAVEEN\\anaconda3\\envs\\Cr23c6\\lib\\site-packages\\ipykernel_launcher.py:29: DeprecationWarning: distutils Version classes are deprecated. Use packaging.version instead.\n"
     ]
    },
    {
     "name": "stdout",
     "output_type": "stream",
     "text": [
      "[ OK ] sklearn version 0.22.2.post1\n",
      "[ OK ] scipy version 1.4.1\n",
      "[ OK ] tqdm version 4.43.0\n",
      "[ OK ] jupyter_client version 6.1.2\n",
      "[ OK ] ipywidgets version 7.5.1\n",
      "[ OK ] torch version 1.3.1\n"
     ]
    },
    {
     "name": "stderr",
     "output_type": "stream",
     "text": [
      "d:\\Users\\M PRAVEEN\\anaconda3\\envs\\Cr23c6\\lib\\site-packages\\ipykernel_launcher.py:29: DeprecationWarning: distutils Version classes are deprecated. Use packaging.version instead.\n"
     ]
    }
   ],
   "source": [
    "from __future__ import print_function\n",
    "from distutils.version import LooseVersion as Version\n",
    "import sys\n",
    "\n",
    "try:\n",
    "    import curses\n",
    "    curses.setupterm()\n",
    "    assert curses.tigetnum(\"colors\") > 2\n",
    "    OK = \"\\x1b[1;%dm[ OK ]\\x1b[0m\" % (30 + curses.COLOR_GREEN)\n",
    "    FAIL = \"\\x1b[1;%dm[FAIL]\\x1b[0m\" % (30 + curses.COLOR_RED)\n",
    "except:\n",
    "    OK = '[ OK ]'\n",
    "    FAIL = '[FAIL]'\n",
    "\n",
    "try:\n",
    "    import importlib\n",
    "except ImportError:\n",
    "    print(FAIL, \"Python version 3.4 is required,\"\n",
    "                \" but %s is installed.\" % sys.version)\n",
    "\n",
    "def import_version(pkg, min_ver):\n",
    "    mod = None\n",
    "    try:\n",
    "        mod = importlib.import_module(pkg)\n",
    "        if pkg in {'PIL'}:\n",
    "            ver = mod.VERSION\n",
    "        else:\n",
    "            ver = mod.__version__\n",
    "        if Version(ver) < min_ver:\n",
    "            print(FAIL, \"%s version %s or higher required, but %s installed.\"\n",
    "                  % (lib, min_ver, ver))\n",
    "        else:\n",
    "            print(OK, '%s version %s' % (pkg, ver))\n",
    "    except ImportError as imp_err_msg:\n",
    "        print(FAIL, 'Error in importing %s: %s' % (pkg, imp_err_msg))\n",
    "    except AttributeError as att_err_msg:\n",
    "        print(FAIL, 'Error in reading attribute of %s: %s' % (pkg, att_err_msg))\n",
    "    return mod\n",
    "\n",
    "# first check the python version\n",
    "print('Using python in', sys.prefix)\n",
    "print(sys.version)\n",
    "pyversion = Version(sys.version)\n",
    "if pyversion >= \"3\":\n",
    "    if pyversion < \"3.7\":\n",
    "        print(FAIL, \"Python version > 3.7 is required,\"\n",
    "                    \" but %s is installed.\\n\" % sys.version)\n",
    "elif pyversion < \"3\":\n",
    "    print(FAIL, \"Python version > 3.7 is required,\"\n",
    "                \" but %s is installed.\\n\" % sys.version)\n",
    "else:\n",
    "    print(FAIL, \"Unknown Python version: %s\\n\" % sys.version)\n",
    "\n",
    "requirements = {'numpy': '1.18.0',\n",
    "                'pandas': '1.0.0',\n",
    "                'pandas_profiling': '2.4.0',\n",
    "                'matplotlib': '3.2.0',\n",
    "                'seaborn': '0.10.0',\n",
    "                'sklearn': '0.22.0',\n",
    "                'scipy': '1.4.0',\n",
    "                'tqdm': '4.43.0',\n",
    "                'jupyter_client': '6.0.0',\n",
    "                'ipywidgets': '7.5.0',\n",
    "                'torch': '1.3.0',}\n",
    "\n",
    "# now check the dependencies\n",
    "for lib, required_version in list(requirements.items()):\n",
    "    import_version(lib, required_version)"
   ]
  },
  {
   "cell_type": "markdown",
   "metadata": {},
   "source": [
    "Install all these packages with the above mentioned versions before executing the code!"
   ]
  }
 ],
 "metadata": {
  "interpreter": {
   "hash": "d7521e0414aa15f050a0872085363ff6f2f37794d341dfab592566fc288c3a0e"
  },
  "kernelspec": {
   "display_name": "Python 3.7.13 ('Cr23c6')",
   "language": "python",
   "name": "python3"
  },
  "language_info": {
   "codemirror_mode": {
    "name": "ipython",
    "version": 3
   },
   "file_extension": ".py",
   "mimetype": "text/x-python",
   "name": "python",
   "nbconvert_exporter": "python",
   "pygments_lexer": "ipython3",
   "version": "3.7.13"
  },
  "orig_nbformat": 4
 },
 "nbformat": 4,
 "nbformat_minor": 2
}
